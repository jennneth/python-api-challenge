{
 "cells": [
  {
   "cell_type": "markdown",
   "metadata": {},
   "source": [
    "# WeatherPy\n",
    "----\n",
    "\n",
    "#### Note\n",
    "* Instructions have been included for each segment. You do not have to follow them exactly, but they are included to help you think through the steps."
   ]
  },
  {
   "cell_type": "code",
   "execution_count": 43,
   "metadata": {
    "scrolled": true
   },
   "outputs": [],
   "source": [
    "# Dependencies and Setup\n",
    "import matplotlib.pyplot as plt\n",
    "import pandas as pd\n",
    "import numpy as np\n",
    "import json\n",
    "import requests\n",
    "import time\n",
    "from scipy.stats import linregress\n",
    "\n",
    "# Import API key\n",
    "from api_keys import weather_api_key\n",
    "\n",
    "# Incorporated citipy to determine city based on latitude and longitude\n",
    "from citipy import citipy\n",
    "\n",
    "#Incorporates ratelimit to prevent exceeding API call limit\n",
    "from ratelimit import limits, sleep_and_retry\n",
    "\n",
    "# Output File (CSV)\n",
    "output_data_file = \"output_data/cities.csv\"\n",
    "\n",
    "# Range of latitudes and longitudes\n",
    "lat_range = (-90, 90)\n",
    "lng_range = (-180, 180)\n",
    "\n"
   ]
  },
  {
   "cell_type": "markdown",
   "metadata": {},
   "source": [
    "## Generate Cities List"
   ]
  },
  {
   "cell_type": "code",
   "execution_count": 44,
   "metadata": {},
   "outputs": [
    {
     "name": "stdout",
     "output_type": "stream",
     "text": [
      "60\n",
      "['iqaluit', 'jalu', 'yar-sale', 'coihaique', 'bengkulu', 'albany', 'hasaki', 'diapaga', 'wagar', 'punta arenas', 'pevek', 'busselton', 'ushuaia', 'chicama', 'hobart', 'mataura', 'totness', 'hamilton', 'gat', 'anaconda', 'kapaa', 'murashi', 'qaanaaq', 'rikitea', 'san carlos del zulia', 'mahibadhoo', 'bluff', 'kruisfontein', 'camacha', 'sangar', 'kodiak', 'ayorou', 'tuktoyaktuk', 'barentsburg', 'bredasdorp', 'cidreira', 'tsihombe', 'vaini', 'atuona', 'belushya guba', 'chokurdakh', 'mahebourg', 'agsu', 'constitucion', 'butaritari', 'souillac', 'victoria', 'olinda', 'srednekolymsk', 'port elizabeth', 'avarua', 'tautira', 'asilah', 'port alfred', 'nanortalik', 'castro', 'marrakesh', 'juegang', 'bulawayo', 'vaitupu']\n"
     ]
    }
   ],
   "source": [
    "# List for holding lat_lngs and cities\n",
    "lat_lngs = []\n",
    "cities = []\n",
    "\n",
    "# Create a set of random lat and lng combinations\n",
    "#lats = np.random.uniform(lat_range[0], lat_range[1], size=1500)\n",
    "#lngs = np.random.uniform(lng_range[0], lng_range[1], size=1500)\n",
    "\n",
    "\n",
    "#let's start with a smaller list of cities \n",
    "lats = np.random.uniform(lat_range[0], lat_range[1], size=75)\n",
    "lngs = np.random.uniform(lng_range[0], lng_range[1], size=75)\n",
    "\n",
    "lat_lngs = zip(lats, lngs)\n",
    "\n",
    "# Identify nearest city for each lat, lng combination\n",
    "for lat_lng in lat_lngs:\n",
    "    city = citipy.nearest_city(lat_lng[0], lat_lng[1]).city_name\n",
    "    \n",
    "    # If the city is unique, then add it to a our cities list\n",
    "    if city not in cities:\n",
    "        cities.append(city)\n",
    "\n",
    "# Print the city count to confirm sufficient count\n",
    "print(len(cities))\n",
    "print(cities)"
   ]
  },
  {
   "cell_type": "markdown",
   "metadata": {},
   "source": [
    "### Perform API Calls\n",
    "* Perform a weather check on each city using a series of successive API calls.\n",
    "* Include a print log of each city as it'sbeing processed (with the city number and city name).\n"
   ]
  },
  {
   "cell_type": "code",
   "execution_count": 45,
   "metadata": {},
   "outputs": [],
   "source": [
    "# Save config information.\n",
    "url = \"http://api.openweathermap.org/data/2.5/weather?\"\n",
    "\n",
    "#initialize the lists\n",
    "cloudiness = []\n",
    "country = []\n",
    "date = []\n",
    "humidity = []\n",
    "longitude = []\n",
    "latitude = []\n",
    "max_temp = []\n",
    "wind_speed = []\n",
    "city_name = []\n",
    "city_id = []\n"
   ]
  },
  {
   "cell_type": "code",
   "execution_count": 48,
   "metadata": {},
   "outputs": [
    {
     "name": "stdout",
     "output_type": "stream",
     "text": [
      "Processing record 0 of set 1 | iqaluit\n",
      "Processing record 1 of set 1 | jalu\n",
      "Processing record 2 of set 1 | yar-sale\n",
      "Processing record 3 of set 1 | coihaique\n",
      "Processing record 4 of set 1 | bengkulu\n",
      "Processing record 5 of set 1 | albany\n",
      "Processing record 6 of set 1 | hasaki\n",
      "Processing record 7 of set 1 | diapaga\n",
      "Processing record 8 of set 1 | wagar\n",
      "Processing record 9 of set 1 | punta arenas\n",
      "Processing record 10 of set 1 | pevek\n",
      "Processing record 11 of set 1 | busselton\n",
      "Processing record 12 of set 1 | ushuaia\n",
      "Processing record 13 of set 1 | chicama\n",
      "Processing record 14 of set 1 | hobart\n",
      "Processing record 15 of set 1 | mataura\n",
      "Processing record 16 of set 1 | totness\n",
      "Processing record 17 of set 1 | hamilton\n",
      "Processing record 18 of set 1 | gat\n",
      "Processing record 19 of set 1 | anaconda\n",
      "Processing record 20 of set 1 | kapaa\n",
      "Processing record 21 of set 1 | murashi\n",
      "Processing record 22 of set 1 | qaanaaq\n",
      "Processing record 23 of set 1 | rikitea\n",
      "Processing record 24 of set 1 | san carlos del zulia\n",
      "Processing record 25 of set 1 | mahibadhoo\n",
      "Processing record 26 of set 1 | bluff\n",
      "Processing record 27 of set 1 | kruisfontein\n",
      "Processing record 28 of set 1 | camacha\n",
      "Processing record 29 of set 1 | sangar\n",
      "Processing record 30 of set 1 | kodiak\n",
      "Processing record 31 of set 1 | ayorou\n",
      "Processing record 32 of set 1 | tuktoyaktuk\n",
      "Processing record 33 of set 1 | barentsburg\n",
      "City barentsburg not found. Continuing...\n",
      "Processing record 34 of set 1 | bredasdorp\n",
      "Processing record 35 of set 1 | cidreira\n",
      "Processing record 36 of set 1 | tsihombe\n",
      "City tsihombe not found. Continuing...\n",
      "Processing record 37 of set 1 | vaini\n",
      "Processing record 38 of set 1 | atuona\n",
      "Processing record 39 of set 1 | belushya guba\n",
      "City belushya guba not found. Continuing...\n",
      "Processing record 40 of set 1 | chokurdakh\n",
      "Processing record 41 of set 1 | mahebourg\n",
      "Processing record 42 of set 1 | agsu\n",
      "City agsu not found. Continuing...\n",
      "Processing record 43 of set 1 | constitucion\n",
      "Processing record 44 of set 1 | butaritari\n",
      "Processing record 45 of set 1 | souillac\n",
      "Processing record 46 of set 1 | victoria\n",
      "Processing record 47 of set 1 | olinda\n",
      "Processing record 48 of set 1 | srednekolymsk\n",
      "Processing record 49 of set 1 | port elizabeth\n",
      "Processing record 0 of set 2 | avarua\n",
      "Processing record 1 of set 2 | tautira\n",
      "Processing record 2 of set 2 | asilah\n",
      "Processing record 3 of set 2 | port alfred\n",
      "Processing record 4 of set 2 | nanortalik\n",
      "Processing record 5 of set 2 | castro\n",
      "Processing record 6 of set 2 | marrakesh\n",
      "Processing record 7 of set 2 | juegang\n",
      "Processing record 8 of set 2 | bulawayo\n",
      "Processing record 9 of set 2 | vaitupu\n",
      "City vaitupu not found. Continuing...\n"
     ]
    }
   ],
   "source": [
    "record_counter = 0\n",
    "set_counter = 0\n",
    "units = \"imperial\"\n",
    "\n",
    "for city in cities:\n",
    "    # Build query URL \n",
    "    query_url = f\"{url}appid={weather_api_key}&q={city}&units=units\"\n",
    "    \n",
    "    if cities.index(city)%50==0:\n",
    "        time.sleep(10)\n",
    "        set_counter += 1\n",
    "        record_counter = 0\n",
    "    else:\n",
    "        record_counter +=1\n",
    "    \n",
    "    print(f\"Processing record {record_counter} of set {set_counter} | {city}\") \n",
    "    \n",
    "    weather_json = requests.get(query_url).json()\n",
    "    try:  \n",
    "        longitude.append(weather_json[\"coord\"][\"lon\"])\n",
    "        latitude.append(weather_json[\"coord\"][\"lat\"])\n",
    "        max_temp.append(weather_json[\"main\"][\"temp_max\"])\n",
    "        cloudiness.append(weather_json[\"clouds\"][\"all\"])\n",
    "        country.append(weather_json[\"sys\"][\"country\"])\n",
    "        date.append(weather_json[\"dt\"])\n",
    "        humidity.append(weather_json[\"main\"][\"humidity\"])\n",
    "        wind_speed.append(weather_json[\"wind\"][\"speed\"])\n",
    "        city_name.append(city)\n",
    "        city_id.append(weather_json[\"id\"])\n",
    "    except:\n",
    "        print(f\"City {city} not found. Continuing...\")\n",
    "\n",
    "    \n",
    "        "
   ]
  },
  {
   "cell_type": "code",
   "execution_count": null,
   "metadata": {},
   "outputs": [],
   "source": []
  },
  {
   "cell_type": "markdown",
   "metadata": {},
   "source": [
    "### Convert Raw Data to DataFrame\n",
    "* Export the city data into a .csv.\n",
    "* Display the DataFrame"
   ]
  },
  {
   "cell_type": "code",
   "execution_count": null,
   "metadata": {},
   "outputs": [],
   "source": [
    "print(city_list)"
   ]
  },
  {
   "cell_type": "code",
   "execution_count": 51,
   "metadata": {},
   "outputs": [],
   "source": [
    "#store the required data\n",
    "# create a data frame from cities, lat, and other retrieved data\n",
    "weather_dict = {\n",
    "            \"city\": city_name,\n",
    "            \"city_id\": city_id,\n",
    "            \"lat\": latitude,\n",
    "            \"max_temp\": max_temp,\n",
    "            \"cloudiness\": cloudiness,\n",
    "            \"country\": country,\n",
    "            \"date\": date,\n",
    "            \"humidity\": humidity,\n",
    "            \"long\": longitude,\n",
    "            \"wind_speed\": wind_speed\n",
    "    \n",
    "        }\n",
    "weather_data = pd.DataFrame(weather_dict)\n",
    "weather_data\n",
    "weather_data.to_csv(output_data_file)"
   ]
  },
  {
   "cell_type": "code",
   "execution_count": null,
   "metadata": {},
   "outputs": [],
   "source": [
    "#sample starter file data"
   ]
  },
  {
   "cell_type": "markdown",
   "metadata": {},
   "source": [
    "## Inspect the data and remove the cities where the humidity > 100%.\n",
    "----\n",
    "Skip this step if there are no cities that have humidity > 100%. "
   ]
  },
  {
   "cell_type": "code",
   "execution_count": 63,
   "metadata": {},
   "outputs": [
    {
     "data": {
      "text/html": [
       "<div>\n",
       "<style scoped>\n",
       "    .dataframe tbody tr th:only-of-type {\n",
       "        vertical-align: middle;\n",
       "    }\n",
       "\n",
       "    .dataframe tbody tr th {\n",
       "        vertical-align: top;\n",
       "    }\n",
       "\n",
       "    .dataframe thead th {\n",
       "        text-align: right;\n",
       "    }\n",
       "</style>\n",
       "<table border=\"1\" class=\"dataframe\">\n",
       "  <thead>\n",
       "    <tr style=\"text-align: right;\">\n",
       "      <th></th>\n",
       "      <th>city</th>\n",
       "      <th>lat</th>\n",
       "      <th>max_temp</th>\n",
       "      <th>cloudiness</th>\n",
       "      <th>country</th>\n",
       "      <th>date</th>\n",
       "      <th>humidity</th>\n",
       "      <th>long</th>\n",
       "      <th>wind_speed</th>\n",
       "    </tr>\n",
       "  </thead>\n",
       "  <tbody>\n",
       "    <tr>\n",
       "      <th>0</th>\n",
       "      <td>iqaluit</td>\n",
       "      <td>63.75</td>\n",
       "      <td>264.15</td>\n",
       "      <td>90</td>\n",
       "      <td>CA</td>\n",
       "      <td>1607208630</td>\n",
       "      <td>85</td>\n",
       "      <td>-68.51</td>\n",
       "      <td>7.20</td>\n",
       "    </tr>\n",
       "    <tr>\n",
       "      <th>1</th>\n",
       "      <td>jalu</td>\n",
       "      <td>29.03</td>\n",
       "      <td>291.00</td>\n",
       "      <td>19</td>\n",
       "      <td>LY</td>\n",
       "      <td>1607208862</td>\n",
       "      <td>29</td>\n",
       "      <td>21.55</td>\n",
       "      <td>7.68</td>\n",
       "    </tr>\n",
       "    <tr>\n",
       "      <th>2</th>\n",
       "      <td>yar-sale</td>\n",
       "      <td>66.83</td>\n",
       "      <td>261.30</td>\n",
       "      <td>57</td>\n",
       "      <td>RU</td>\n",
       "      <td>1607208862</td>\n",
       "      <td>96</td>\n",
       "      <td>70.83</td>\n",
       "      <td>3.83</td>\n",
       "    </tr>\n",
       "    <tr>\n",
       "      <th>3</th>\n",
       "      <td>coihaique</td>\n",
       "      <td>-45.58</td>\n",
       "      <td>299.15</td>\n",
       "      <td>0</td>\n",
       "      <td>CL</td>\n",
       "      <td>1607208862</td>\n",
       "      <td>31</td>\n",
       "      <td>-72.07</td>\n",
       "      <td>3.10</td>\n",
       "    </tr>\n",
       "    <tr>\n",
       "      <th>4</th>\n",
       "      <td>bengkulu</td>\n",
       "      <td>-3.80</td>\n",
       "      <td>297.70</td>\n",
       "      <td>95</td>\n",
       "      <td>ID</td>\n",
       "      <td>1607208863</td>\n",
       "      <td>80</td>\n",
       "      <td>102.27</td>\n",
       "      <td>2.16</td>\n",
       "    </tr>\n",
       "    <tr>\n",
       "      <th>...</th>\n",
       "      <td>...</td>\n",
       "      <td>...</td>\n",
       "      <td>...</td>\n",
       "      <td>...</td>\n",
       "      <td>...</td>\n",
       "      <td>...</td>\n",
       "      <td>...</td>\n",
       "      <td>...</td>\n",
       "      <td>...</td>\n",
       "    </tr>\n",
       "    <tr>\n",
       "      <th>160</th>\n",
       "      <td>nanortalik</td>\n",
       "      <td>60.14</td>\n",
       "      <td>272.34</td>\n",
       "      <td>99</td>\n",
       "      <td>GL</td>\n",
       "      <td>1607208784</td>\n",
       "      <td>98</td>\n",
       "      <td>-45.24</td>\n",
       "      <td>1.04</td>\n",
       "    </tr>\n",
       "    <tr>\n",
       "      <th>161</th>\n",
       "      <td>castro</td>\n",
       "      <td>-24.79</td>\n",
       "      <td>289.16</td>\n",
       "      <td>100</td>\n",
       "      <td>BR</td>\n",
       "      <td>1607208883</td>\n",
       "      <td>96</td>\n",
       "      <td>-50.01</td>\n",
       "      <td>6.65</td>\n",
       "    </tr>\n",
       "    <tr>\n",
       "      <th>162</th>\n",
       "      <td>marrakesh</td>\n",
       "      <td>31.63</td>\n",
       "      <td>282.15</td>\n",
       "      <td>40</td>\n",
       "      <td>MA</td>\n",
       "      <td>1607208884</td>\n",
       "      <td>87</td>\n",
       "      <td>-8.01</td>\n",
       "      <td>1.50</td>\n",
       "    </tr>\n",
       "    <tr>\n",
       "      <th>163</th>\n",
       "      <td>juegang</td>\n",
       "      <td>32.32</td>\n",
       "      <td>280.93</td>\n",
       "      <td>0</td>\n",
       "      <td>CN</td>\n",
       "      <td>1607208884</td>\n",
       "      <td>74</td>\n",
       "      <td>121.19</td>\n",
       "      <td>1.34</td>\n",
       "    </tr>\n",
       "    <tr>\n",
       "      <th>164</th>\n",
       "      <td>bulawayo</td>\n",
       "      <td>-20.15</td>\n",
       "      <td>289.02</td>\n",
       "      <td>100</td>\n",
       "      <td>ZW</td>\n",
       "      <td>1607208884</td>\n",
       "      <td>93</td>\n",
       "      <td>28.58</td>\n",
       "      <td>6.01</td>\n",
       "    </tr>\n",
       "  </tbody>\n",
       "</table>\n",
       "<p>165 rows × 9 columns</p>\n",
       "</div>"
      ],
      "text/plain": [
       "           city    lat  max_temp  cloudiness country        date  humidity  \\\n",
       "0       iqaluit  63.75    264.15          90      CA  1607208630        85   \n",
       "1          jalu  29.03    291.00          19      LY  1607208862        29   \n",
       "2      yar-sale  66.83    261.30          57      RU  1607208862        96   \n",
       "3     coihaique -45.58    299.15           0      CL  1607208862        31   \n",
       "4      bengkulu  -3.80    297.70          95      ID  1607208863        80   \n",
       "..          ...    ...       ...         ...     ...         ...       ...   \n",
       "160  nanortalik  60.14    272.34          99      GL  1607208784        98   \n",
       "161      castro -24.79    289.16         100      BR  1607208883        96   \n",
       "162   marrakesh  31.63    282.15          40      MA  1607208884        87   \n",
       "163     juegang  32.32    280.93           0      CN  1607208884        74   \n",
       "164    bulawayo -20.15    289.02         100      ZW  1607208884        93   \n",
       "\n",
       "       long  wind_speed  \n",
       "0    -68.51        7.20  \n",
       "1     21.55        7.68  \n",
       "2     70.83        3.83  \n",
       "3    -72.07        3.10  \n",
       "4    102.27        2.16  \n",
       "..      ...         ...  \n",
       "160  -45.24        1.04  \n",
       "161  -50.01        6.65  \n",
       "162   -8.01        1.50  \n",
       "163  121.19        1.34  \n",
       "164   28.58        6.01  \n",
       "\n",
       "[165 rows x 9 columns]"
      ]
     },
     "execution_count": 63,
     "metadata": {},
     "output_type": "execute_result"
    }
   ],
   "source": [
    "remove_hum = weather_data.loc[weather_data.humidity < 101]\n",
    "remove_hum"
   ]
  },
  {
   "cell_type": "code",
   "execution_count": 60,
   "metadata": {},
   "outputs": [
    {
     "name": "stdout",
     "output_type": "stream",
     "text": [
      "<class 'pandas.core.frame.DataFrame'>\n",
      "RangeIndex: 165 entries, 0 to 164\n",
      "Data columns (total 9 columns):\n",
      " #   Column      Non-Null Count  Dtype  \n",
      "---  ------      --------------  -----  \n",
      " 0   city        165 non-null    object \n",
      " 1   lat         165 non-null    float64\n",
      " 2   max_temp    165 non-null    float64\n",
      " 3   cloudiness  165 non-null    int64  \n",
      " 4   country     165 non-null    object \n",
      " 5   date        165 non-null    int64  \n",
      " 6   humidity    165 non-null    int64  \n",
      " 7   long        165 non-null    float64\n",
      " 8   wind_speed  165 non-null    float64\n",
      "dtypes: float64(4), int64(3), object(2)\n",
      "memory usage: 11.7+ KB\n"
     ]
    }
   ],
   "source": [
    "weather_data.info()\n"
   ]
  },
  {
   "cell_type": "code",
   "execution_count": 65,
   "metadata": {},
   "outputs": [
    {
     "data": {
      "text/html": [
       "<div>\n",
       "<style scoped>\n",
       "    .dataframe tbody tr th:only-of-type {\n",
       "        vertical-align: middle;\n",
       "    }\n",
       "\n",
       "    .dataframe tbody tr th {\n",
       "        vertical-align: top;\n",
       "    }\n",
       "\n",
       "    .dataframe thead th {\n",
       "        text-align: right;\n",
       "    }\n",
       "</style>\n",
       "<table border=\"1\" class=\"dataframe\">\n",
       "  <thead>\n",
       "    <tr style=\"text-align: right;\">\n",
       "      <th></th>\n",
       "      <th>city</th>\n",
       "      <th>lat</th>\n",
       "      <th>max_temp</th>\n",
       "      <th>cloudiness</th>\n",
       "      <th>country</th>\n",
       "      <th>date</th>\n",
       "      <th>humidity</th>\n",
       "      <th>long</th>\n",
       "      <th>wind_speed</th>\n",
       "    </tr>\n",
       "  </thead>\n",
       "  <tbody>\n",
       "  </tbody>\n",
       "</table>\n",
       "</div>"
      ],
      "text/plain": [
       "Empty DataFrame\n",
       "Columns: [city, lat, max_temp, cloudiness, country, date, humidity, long, wind_speed]\n",
       "Index: []"
      ]
     },
     "execution_count": 65,
     "metadata": {},
     "output_type": "execute_result"
    }
   ],
   "source": [
    "#  Get the indices of cities that have humidity over 100%.\n",
    "over_hundred = weather_data.loc[weather_data.humidity > 100]\n",
    "over_hundred"
   ]
  },
  {
   "cell_type": "code",
   "execution_count": null,
   "metadata": {},
   "outputs": [],
   "source": [
    "# Make a new DataFrame equal to the city data to drop all humidity outliers by index.\n",
    "# Passing \"inplace=False\" will make a copy of the city_data DataFrame, which we call \"clean_city_data\".\n"
   ]
  },
  {
   "cell_type": "code",
   "execution_count": null,
   "metadata": {},
   "outputs": [],
   "source": [
    "\n"
   ]
  },
  {
   "cell_type": "markdown",
   "metadata": {},
   "source": [
    "## Plotting the Data\n",
    "* Use proper labeling of the plots using plot titles (including date of analysis) and axes labels.\n",
    "* Save the plotted figures as .pngs."
   ]
  },
  {
   "cell_type": "markdown",
   "metadata": {},
   "source": [
    "## Latitude vs. Temperature Plot"
   ]
  },
  {
   "cell_type": "code",
   "execution_count": null,
   "metadata": {
    "scrolled": true
   },
   "outputs": [],
   "source": []
  },
  {
   "cell_type": "markdown",
   "metadata": {},
   "source": [
    "## Latitude vs. Humidity Plot"
   ]
  },
  {
   "cell_type": "code",
   "execution_count": null,
   "metadata": {},
   "outputs": [],
   "source": []
  },
  {
   "cell_type": "markdown",
   "metadata": {},
   "source": [
    "## Latitude vs. Cloudiness Plot"
   ]
  },
  {
   "cell_type": "code",
   "execution_count": null,
   "metadata": {},
   "outputs": [],
   "source": []
  },
  {
   "cell_type": "markdown",
   "metadata": {},
   "source": [
    "## Latitude vs. Wind Speed Plot"
   ]
  },
  {
   "cell_type": "code",
   "execution_count": null,
   "metadata": {},
   "outputs": [],
   "source": []
  },
  {
   "cell_type": "markdown",
   "metadata": {},
   "source": [
    "## Linear Regression"
   ]
  },
  {
   "cell_type": "code",
   "execution_count": null,
   "metadata": {},
   "outputs": [],
   "source": []
  },
  {
   "cell_type": "markdown",
   "metadata": {},
   "source": [
    "####  Northern Hemisphere - Max Temp vs. Latitude Linear Regression"
   ]
  },
  {
   "cell_type": "code",
   "execution_count": null,
   "metadata": {},
   "outputs": [],
   "source": []
  },
  {
   "cell_type": "markdown",
   "metadata": {},
   "source": [
    "####  Southern Hemisphere - Max Temp vs. Latitude Linear Regression"
   ]
  },
  {
   "cell_type": "code",
   "execution_count": null,
   "metadata": {},
   "outputs": [],
   "source": []
  },
  {
   "cell_type": "markdown",
   "metadata": {},
   "source": [
    "####  Northern Hemisphere - Humidity (%) vs. Latitude Linear Regression"
   ]
  },
  {
   "cell_type": "code",
   "execution_count": null,
   "metadata": {},
   "outputs": [],
   "source": []
  },
  {
   "cell_type": "markdown",
   "metadata": {},
   "source": [
    "####  Southern Hemisphere - Humidity (%) vs. Latitude Linear Regression"
   ]
  },
  {
   "cell_type": "code",
   "execution_count": null,
   "metadata": {},
   "outputs": [],
   "source": []
  },
  {
   "cell_type": "markdown",
   "metadata": {},
   "source": [
    "####  Northern Hemisphere - Cloudiness (%) vs. Latitude Linear Regression"
   ]
  },
  {
   "cell_type": "code",
   "execution_count": null,
   "metadata": {},
   "outputs": [],
   "source": []
  },
  {
   "cell_type": "markdown",
   "metadata": {},
   "source": [
    "####  Southern Hemisphere - Cloudiness (%) vs. Latitude Linear Regression"
   ]
  },
  {
   "cell_type": "code",
   "execution_count": null,
   "metadata": {},
   "outputs": [],
   "source": []
  },
  {
   "cell_type": "markdown",
   "metadata": {},
   "source": [
    "####  Northern Hemisphere - Wind Speed (mph) vs. Latitude Linear Regression"
   ]
  },
  {
   "cell_type": "code",
   "execution_count": null,
   "metadata": {},
   "outputs": [],
   "source": []
  },
  {
   "cell_type": "markdown",
   "metadata": {},
   "source": [
    "####  Southern Hemisphere - Wind Speed (mph) vs. Latitude Linear Regression"
   ]
  },
  {
   "cell_type": "code",
   "execution_count": null,
   "metadata": {},
   "outputs": [],
   "source": []
  },
  {
   "cell_type": "code",
   "execution_count": null,
   "metadata": {},
   "outputs": [],
   "source": []
  }
 ],
 "metadata": {
  "anaconda-cloud": {},
  "kernel_info": {
   "name": "python3"
  },
  "kernelspec": {
   "display_name": "Python 3",
   "language": "python",
   "name": "python3"
  },
  "language_info": {
   "codemirror_mode": {
    "name": "ipython",
    "version": 3
   },
   "file_extension": ".py",
   "mimetype": "text/x-python",
   "name": "python",
   "nbconvert_exporter": "python",
   "pygments_lexer": "ipython3",
   "version": "3.8.3"
  },
  "latex_envs": {
   "LaTeX_envs_menu_present": true,
   "autoclose": false,
   "autocomplete": true,
   "bibliofile": "biblio.bib",
   "cite_by": "apalike",
   "current_citInitial": 1,
   "eqLabelWithNumbers": true,
   "eqNumInitial": 1,
   "hotkeys": {
    "equation": "Ctrl-E",
    "itemize": "Ctrl-I"
   },
   "labels_anchors": false,
   "latex_user_defs": false,
   "report_style_numbering": false,
   "user_envs_cfg": false
  },
  "nteract": {
   "version": "0.12.3"
  }
 },
 "nbformat": 4,
 "nbformat_minor": 2
}
